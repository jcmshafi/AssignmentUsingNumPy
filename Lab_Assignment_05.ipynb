{
  "cells": [
    {
      "cell_type": "markdown",
      "metadata": {
        "id": "view-in-github",
        "colab_type": "text"
      },
      "source": [
        "<a href=\"https://colab.research.google.com/github/jcmshafi/AssignmentUsingNumPy/blob/main/Lab_Assignment_05.ipynb\" target=\"_parent\"><img src=\"https://colab.research.google.com/assets/colab-badge.svg\" alt=\"Open In Colab\"/></a>"
      ]
    },
    {
      "cell_type": "markdown",
      "metadata": {
        "id": "jw49L2nHBFrW"
      },
      "source": [
        "#### **Find global minima point of a function:**\n",
        "In this exercise, you will implement the Newton-Raphson method to find the global minima point of the following function:\n",
        "\n",
        "$$f(x) = e^{x+4} + x^\\frac{2}{3} + 8\\sin(x)$$\n",
        "\n",
        "Local maxima / minima of a function occurs at the roots of the first derivative of the function. We can find the local minima point of a function by finding the roots of the first derivative of the function. So, we have to find the roots of the following function to get the local minima point of $f(x)$:\n",
        "$$\n",
        "\\begin{align*}\n",
        "f'(x) &= \\frac{d}{dx} \\left( e^{x+4} + x^\\frac{2}{3} + 8\\sin(x) \\right) \\\\ \\\\\n",
        "&= e^{x+4} + \\frac{2}{3}x^{-\\frac{1}{3}} + 8\\cos(x) \\\\\n",
        "\\end{align*}\n",
        "$$\n",
        "\n",
        "Follow the steps below to find the local minima point of $f(x)$:\n",
        "\n",
        "* Plot the graph for function $f{(x)}$\n",
        "\n",
        "* Use the graph to determine the range of $x$ where the global minimum point for function $f(x)$ can be found.\n",
        "\n",
        "* Choose 5 initial values of $x$ from the range where the global minimum point for function $f(x)$ can be found. For each initial value of $x$, use the Newton-Raphson method to find the global minimum point of $f(x)$. Use error tolerance, $\\epsilon = 0.001$ and maximum number of iterations, $N = 100$. Consider the following steps to implement the Newton-Raphson method:\n",
        "\n",
        "    * **Step 1:** Calculate the value of $f'(x)$ and $f''(x)$ for the given value of $x$.\n",
        "    * **Step 2:** Calculate the value of $x_{new} = x_{old} - \\frac{f'(x_{old})}{f''(x_{old})}$.\n",
        "    * **Step 3:** Check if the absolute relative approximate error, $\\epsilon_{abs} = \\left| \\frac{x_{new} - x_{old}}{x_{new}} \\right|$ is less than the error tolerance, $\\epsilon$. If yes, then stop the iteration and return the value of $x_{new}$. If no, then set $x_{old} = x_{new}$ and repeat the steps 1 and 2.\n",
        "    * **Step 4:** If the number of iterations exceeds the maximum number of iterations, $N$, then stop the iteration and return the value of $x_{new}$. If no, then repeat the steps 1 to 3.\n",
        "\n",
        "* For each stationary(minimum/maximum) point found in previous step, check if the point is a local minimum point by checking the value of $f''(x)$ at that point. If the value of $f''(x)$ is positive, then the point is a local minimum point.\n",
        "\n",
        "* Now, as you have found the local minima point of $f(x)$, find the global minima point of $f(x)$ by finding the local minima point with the smallest value of $f(x)$.\n",
        "\n",
        "* Find the value of the function $f(x)$ at the global minimum point found in previous step. The value should be close to $-4$. If the value is not close to $-4$, then repeat all the steps with different initial values of $x$.\n",
        "\n",
        "* Finally, plot the graph for function $f(x)$, its first derivative $f'(x)$ along with the local and global minima points found in previous steps. Mark the global minima point with a red circle and the local minima points with a blue circle."
      ]
    },
    {
      "cell_type": "code",
      "execution_count": 9,
      "metadata": {
        "colab": {
          "base_uri": "https://localhost:8080/",
          "height": 611
        },
        "id": "CxI48LQwBFrZ",
        "outputId": "3dd9ccba-cf05-4f2c-9d0e-fdeaef4bf681"
      },
      "outputs": [
        {
          "output_type": "stream",
          "name": "stderr",
          "text": [
            "<ipython-input-9-60b2ff303e3a>:6: RuntimeWarning: invalid value encountered in power\n",
            "  return np.exp(x + 4) + x**(2/3) + 8 * np.sin(x)\n",
            "<ipython-input-9-60b2ff303e3a>:9: RuntimeWarning: invalid value encountered in double_scalars\n",
            "  return np.exp(x + 4) + (2/3) * x**(-1/3) - 8 * np.sin(x)\n",
            "<ipython-input-9-60b2ff303e3a>:12: RuntimeWarning: invalid value encountered in double_scalars\n",
            "  return np.exp(x + 4) - (2/9) * x**(-4/3) - 8 * np.cos(x)\n"
          ]
        },
        {
          "output_type": "display_data",
          "data": {
            "text/plain": [
              "<Figure size 640x480 with 1 Axes>"
            ],
            "image/png": "[encoded data removed]"
          },
          "metadata": {}
        },
        {
          "output_type": "stream",
          "name": "stdout",
          "text": [
            "Global Minimum Point: (-15.724607818743785-0.028798904915202133j)\n",
            "Value of f(x) at Global Minimum Point: (-2.9984178268071044-5.209080659155434j)\n"
          ]
        }
      ],
      "source": [
        "import numpy as np\n",
        "import matplotlib.pyplot as plt\n",
        "\n",
        "def f(x):\n",
        "    return np.exp(x + 4) + x**(2/3) + 8 * np.sin(x)\n",
        "\n",
        "def f_prime(x):\n",
        "    return np.exp(x + 4) + (2/3) * x**(-1/3) - 8 * np.sin(x)\n",
        "\n",
        "def f_double_prime(x):\n",
        "    return np.exp(x + 4) - (2/9) * x**(-4/3) - 8 * np.cos(x)\n",
        "\n",
        "def newton_raphson(x_initial, epsilon=0.001, max_iterations=100):\n",
        "    x_old = x_initial\n",
        "    for _ in range(max_iterations):\n",
        "        f_prime_val = f_prime(x_old)\n",
        "        f_double_prime_val = f_double_prime(x_old)\n",
        "\n",
        "        if abs(f_double_prime_val) < 1e-10:\n",
        "            break\n",
        "\n",
        "        x_new = x_old - f_prime_val / f_double_prime_val\n",
        "\n",
        "        relative_error = abs(x_new - x_old) / abs(x_new)\n",
        "        if relative_error < epsilon:\n",
        "            return x_new\n",
        "\n",
        "        x_old = x_new\n",
        "\n",
        "    return x_old\n",
        "\n",
        "\n",
        "x_vals = np.linspace(-10, 10, 1000)\n",
        "y_vals = f(x_vals)\n",
        "\n",
        "plt.plot(x_vals, y_vals, label='f(x)')\n",
        "plt.xlabel('x')\n",
        "plt.ylabel('f(x)')\n",
        "plt.title('Graph of f(x)')\n",
        "plt.grid(True)\n",
        "\n",
        "\n",
        "initial_values = [-8, -5, -2, 2, 5]\n",
        "minima = []\n",
        "for initial in initial_values:\n",
        "    local_minimum = newton_raphson(initial)\n",
        "    minima.append(local_minimum)\n",
        "\n",
        "global_minima = min(minima, key=f)\n",
        "\n",
        "plt.plot(minima, f(np.array(minima)), 'bo', label='Local Minima')\n",
        "plt.plot(global_minima, f(global_minima), 'ro', label='Global Minima')\n",
        "plt.legend()\n",
        "\n",
        "plt.show()\n",
        "\n",
        "print(\"Global Minimum Point:\", global_minima)\n",
        "print(\"Value of f(x) at Global Minimum Point:\", f(global_minima))\n"
      ]
    }
  ],
  "metadata": {
    "kernelspec": {
      "display_name": "Python 3",
      "language": "python",
      "name": "python3"
    },
    "language_info": {
      "codemirror_mode": {
        "name": "ipython",
        "version": 3
      },
      "file_extension": ".py",
      "mimetype": "text/x-python",
      "name": "python",
      "nbconvert_exporter": "python",
      "pygments_lexer": "ipython3",
      "version": "3.10.6 (tags/v3.10.6:9c7b4bd, Aug  1 2022, 21:53:49) [MSC v.1932 64 bit (AMD64)]"
    },
    "orig_nbformat": 4,
    "vscode": {
      "interpreter": {
        "hash": "b148fc9bfa8b60132af830e32e1690e4e023b803e92912df15b823b90141dda6"
      }
    },
    "colab": {
      "provenance": [],
      "include_colab_link": true
    }
  },
  "nbformat": 4,
  "nbformat_minor": 0
}